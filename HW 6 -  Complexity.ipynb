{
 "cells": [
  {
   "attachments": {},
   "cell_type": "markdown",
   "metadata": {},
   "source": [
    "Create a code for each one of the sorting algorithms discussed in class.\n",
    "Use only loops (for, while) and conditionals (if else)\n"
   ]
  },
  {
   "cell_type": "markdown",
   "metadata": {},
   "source": [
    "1. Bubble Sort"
   ]
  },
  {
   "cell_type": "code",
   "execution_count": 34,
   "metadata": {},
   "outputs": [
    {
     "name": "stdout",
     "output_type": "stream",
     "text": [
      "[1, 2, 5, 7, 8, 8, 9, 9, 13, 14, 15, 21, 25]\n"
     ]
    }
   ],
   "source": [
    "#Bubble Sort:\n",
    "def bubbleSort(alist):\n",
    "    for i in range(len(alist)-1,0,-1):\n",
    "        for j in range(i):  \n",
    "            if alist[j] > alist[j+1]:\n",
    "                temp = alist[j]\n",
    "                alist[j] = alist[j+1]\n",
    "                alist[j+1] = temp\n",
    "alist = [14, 2, 8, 15, 7, 21, 9, 13, 8, 25, 9, 5, 1]\n",
    "bubbleSort(alist)\n",
    "print(alist)"
   ]
  },
  {
   "cell_type": "code",
   "execution_count": 35,
   "metadata": {},
   "outputs": [
    {
     "name": "stdout",
     "output_type": "stream",
     "text": [
      "[1, 2, 5, 7, 8, 8, 9, 9, 13, 14, 15, 21, 25]\n"
     ]
    }
   ],
   "source": [
    "#Insertion Sort:\n",
    "def insertionSort(alist):\n",
    "    for i in range(1,len(alist)):\n",
    "        currentvalue = alist[i]\n",
    "        position = i\n",
    "\n",
    "    while position>0 and alist[position-1]>currentvalue:\n",
    "        alist[position]=alist[position-1]\n",
    "        position = position-1\n",
    "\n",
    "        alist[position]=currentvalue\n",
    "\n",
    "nlist = [14, 2, 8, 15, 7, 21, 9, 13, 8, 25, 9, 5, 1]\n",
    "insertionSort(alist)\n",
    "print(alist)"
   ]
  },
  {
   "cell_type": "code",
   "execution_count": 41,
   "metadata": {},
   "outputs": [
    {
     "name": "stdout",
     "output_type": "stream",
     "text": [
      "[1, 2, 5, 7, 8, 8, 9, 9, 13, 14, 15, 21, 25]\n"
     ]
    }
   ],
   "source": [
    "#Selection Sort:\n",
    "def selectionSort(alist):\n",
    "    for i in range(len(alist)):\n",
    "        minPosition = i\n",
    "        for j in range(i+1, len(alist)):\n",
    "            if alist[minPosition] > alist[j]:\n",
    "                minPosition = j      \n",
    "        temp = alist[i]\n",
    "        alist[i] = alist[minPosition]\n",
    "        alist[minPosition] = temp\n",
    "    return alist\n",
    "print(selectionSort([14, 2, 8, 15, 7, 21, 9, 13, 8, 25, 9, 5, 1]))"
   ]
  },
  {
   "cell_type": "code",
   "execution_count": 48,
   "metadata": {},
   "outputs": [
    {
     "name": "stdout",
     "output_type": "stream",
     "text": [
      "Splitting  [14, 2, 8, 15, 7, 21, 9, 13, 8, 25, 9, 5, 1]\n",
      "Splitting  [14, 2, 8, 15, 7, 21]\n",
      "Splitting  [14, 2, 8]\n",
      "Splitting  [14]\n",
      "Merging  [14]\n",
      "Splitting  [2, 8]\n",
      "Splitting  [2]\n",
      "Merging  [2]\n",
      "Splitting  [8]\n",
      "Merging  [8]\n",
      "Merging  [2, 8]\n",
      "Merging  [2, 8, 14]\n",
      "Splitting  [15, 7, 21]\n",
      "Splitting  [15]\n",
      "Merging  [15]\n",
      "Splitting  [7, 21]\n",
      "Splitting  [7]\n",
      "Merging  [7]\n",
      "Splitting  [21]\n",
      "Merging  [21]\n",
      "Merging  [7, 21]\n",
      "Merging  [7, 15, 21]\n",
      "Merging  [2, 7, 8, 14, 15, 21]\n",
      "Splitting  [9, 13, 8, 25, 9, 5, 1]\n",
      "Splitting  [9, 13, 8]\n",
      "Splitting  [9]\n",
      "Merging  [9]\n",
      "Splitting  [13, 8]\n",
      "Splitting  [13]\n",
      "Merging  [13]\n",
      "Splitting  [8]\n",
      "Merging  [8]\n",
      "Merging  [8, 13]\n",
      "Merging  [8, 9, 13]\n",
      "Splitting  [25, 9, 5, 1]\n",
      "Splitting  [25, 9]\n",
      "Splitting  [25]\n",
      "Merging  [25]\n",
      "Splitting  [9]\n",
      "Merging  [9]\n",
      "Merging  [9, 25]\n",
      "Splitting  [5, 1]\n",
      "Splitting  [5]\n",
      "Merging  [5]\n",
      "Splitting  [1]\n",
      "Merging  [1]\n",
      "Merging  [1, 5]\n",
      "Merging  [1, 5, 9, 25]\n",
      "Merging  [1, 5, 8, 9, 9, 13, 25]\n",
      "Merging  [1, 2, 5, 7, 8, 8, 9, 9, 13, 14, 15, 21, 25]\n",
      "[1, 2, 5, 7, 8, 8, 9, 9, 13, 14, 15, 21, 25]\n"
     ]
    }
   ],
   "source": [
    "#Merge Sort\n",
    "def mergeSort(alist):\n",
    "    print(\"Splitting \",alist)\n",
    "    if len(alist)>1:\n",
    "        mid = len(alist)//2\n",
    "        lefthalf = alist[:mid]\n",
    "        righthalf = alist[mid:]\n",
    "\n",
    "        mergeSort(lefthalf)\n",
    "        mergeSort(righthalf)\n",
    "        i=j=k=0       \n",
    "        while i < len(lefthalf) and j < len(righthalf):\n",
    "            if lefthalf[i] < righthalf[j]:\n",
    "                alist[k]=lefthalf[i]\n",
    "                i=i+1\n",
    "            else:\n",
    "                alist[k]=righthalf[j]\n",
    "                j=j+1\n",
    "            k=k+1\n",
    "\n",
    "        while i < len(lefthalf):\n",
    "            alist[k]=lefthalf[i]\n",
    "            i=i+1\n",
    "            k=k+1\n",
    "\n",
    "        while j < len(righthalf):\n",
    "            alist[k]=righthalf[j]\n",
    "            j=j+1\n",
    "            k=k+1\n",
    "    print(\"Merging \",alist)\n",
    "\n",
    "alist = [14, 2, 8, 15, 7, 21, 9, 13, 8, 25, 9, 5, 1]\n",
    "mergeSort(alist)\n",
    "print(alist)"
   ]
  },
  {
   "cell_type": "markdown",
   "metadata": {},
   "source": [
    "Bubble sort: advantages and disadvantages\n",
    "    Advantanges:this algorithm has several advantages. It is simple to write, easy to understand and it only takes a few lines of code. The data is sorted in place so there is little memory overhead and, once sorted, the data is in memory, ready for processing.\n",
    "    Disadvantages: the major disadvantage is the amount of time it takes to sort. The average time increases almost exponentially as the number of table elements increase. Ten times the number of items takes almost one hundred times as long to sort.\n",
    "\n",
    "Insertion sort: advantages and disadvantages\n",
    "    Advantages: the main advantage of the insertion sort is its simplicity. It also exhibits a good performance when dealing with a small list. The insertion sort is an in-place sorting algorithm so the space requirement is minimal.\n",
    "    Disadvantages: the disadvantage of the insertion sort is that it does not perform as well as other, better sorting algorithms. With n-squared steps required for every n element to be sorted, the insertion sort does not deal well with a huge list. Therefore, the insertion sort is particularly useful only when sorting a list of few items. \n",
    "\n",
    "Selection Sort:\n",
    "    Advantages: the main advantage of the selection sort is that it performs well on a small list. Furthermore, because it is an in-place sorting algorithm, no additional temporary storage is required beyond what is needed to hold the original list. \n",
    "    Disadvantages: the primary disadvantage of the selection sort is its poor efficiency when dealing with a huge list of items. Similar to the bubble sort, the selection sort requires n-squared number of steps for sorting n elements. Additionally, its performance is easily influenced by the initial ordering of the items before the sorting process. Because of this, the selection sort is only suitable for a list of few elements that are in random order.\n",
    "\n",
    "Merge Sort:\n",
    "    Advantages: It is quicker for larger lists because unlike insertion and bubble sort it doesnt go through the whole list seveal times. It has a consistent running time, carries out different bits with similar  times in a stage.\n",
    "    Disadvantages: Slower comparative to the other sort algorithms for smaller tasks. Goes through the whole process even i he list is sorted (just like insertion and bubble sort?. Uses more memory space to store the sub elements of the initial split list."
   ]
  },
  {
   "cell_type": "markdown",
   "metadata": {},
   "source": [
    "The most popular sorting algorithm is merge sort. This is because of its significant advantage in terms of efficiency because it is able to deal well with a huge list of items. Because it sorts in place, no additional storage is required as well. The slight disadvantage of merge sort is that its worst-case performance is similar to average performances of the bubble, insertion or selections sorts. In general, the quick sort produces the most effective and widely used method of sorting a list of any item size."
   ]
  },
  {
   "cell_type": "markdown",
   "metadata": {},
   "source": [
    "What is Heap? And how does it work?\n",
    "A Heap is a special Tree-based data structure in which the tree is a complete binary tree. Generally, Heaps can be of two types:\n",
    "Max-Heap: In a Max-Heap the key present at the root node must be greatest among the keys present at all of it’s children. The same property must be recursively true for all sub-trees in that Binary Tree.\n",
    "Min-Heap: In a Min-Heap the key present at the root node must be minimum among the keys present at all of it’s children. The same property must be recursively true for all sub-trees in that Binary Tree."
   ]
  }
 ],
 "metadata": {
  "kernelspec": {
   "display_name": "Python 3",
   "language": "python",
   "name": "python3"
  },
  "language_info": {
   "codemirror_mode": {
    "name": "ipython",
    "version": 3
   },
   "file_extension": ".py",
   "mimetype": "text/x-python",
   "name": "python",
   "nbconvert_exporter": "python",
   "pygments_lexer": "ipython3",
   "version": "3.7.4"
  }
 },
 "nbformat": 4,
 "nbformat_minor": 2
}
