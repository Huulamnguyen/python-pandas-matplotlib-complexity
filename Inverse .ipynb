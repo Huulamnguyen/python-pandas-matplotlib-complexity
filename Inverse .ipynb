{
 "cells": [
  {
   "cell_type": "code",
   "execution_count": 66,
   "metadata": {},
   "outputs": [],
   "source": [
    "import numpy as np\n",
    "\n"
   ]
  },
  {
   "cell_type": "code",
   "execution_count": 75,
   "metadata": {
    "scrolled": false
   },
   "outputs": [
    {
     "name": "stdout",
     "output_type": "stream",
     "text": [
      "M:\n",
      " [[3 1 1]\n",
      " [5 7 4]\n",
      " [2 9 6]]\n",
      "\n",
      "R:\n",
      " [[3. 1. 1. 1. 0. 0.]\n",
      " [5. 7. 4. 0. 1. 0.]\n",
      " [2. 9. 6. 0. 0. 1.]]\n",
      "\n",
      "Element 0 0 Operation:\n",
      " [[1. 1. 1. 1. 0. 0.]\n",
      " [5. 7. 4. 0. 1. 0.]\n",
      " [2. 9. 6. 0. 0. 1.]]\n",
      "\n",
      "Row operation 1 \n",
      " [[ 1.  1.  1.  1.  0.  0.]\n",
      " [ 0.  2. -1. -5.  1.  0.]\n",
      " [ 2.  9.  6.  0.  0.  1.]]\n",
      "\n",
      "Row operation 2 \n",
      " [[ 1.  1.  1.  1.  0.  0.]\n",
      " [ 0.  2. -1. -5.  1.  0.]\n",
      " [ 0.  7.  4. -2.  0.  1.]]\n",
      "\n",
      "Element 1 1 Operation:\n",
      " [[ 1.  1.  1.  1.  0.  0.]\n",
      " [ 0.  1. -1. -5.  1.  0.]\n",
      " [ 0.  7.  4. -2.  0.  1.]]\n",
      "\n",
      "Row operation 0 \n",
      " [[ 1.  0.  2.  6. -1.  0.]\n",
      " [ 0.  1. -1. -5.  1.  0.]\n",
      " [ 0.  7.  4. -2.  0.  1.]]\n",
      "\n",
      "Row operation 2 \n",
      " [[ 1.  0.  2.  6. -1.  0.]\n",
      " [ 0.  1. -1. -5.  1.  0.]\n",
      " [ 0.  0. 11. 33. -7.  1.]]\n",
      "\n",
      "Element 2 2 Operation:\n",
      " [[ 1.  0.  2.  6. -1.  0.]\n",
      " [ 0.  1. -1. -5.  1.  0.]\n",
      " [ 0.  0.  1. 33. -7.  1.]]\n",
      "\n",
      "Row operation 0 \n",
      " [[  1.   0.   0. -60.  13.  -2.]\n",
      " [  0.   1.  -1.  -5.   1.   0.]\n",
      " [  0.   0.   1.  33.  -7.   1.]]\n",
      "\n",
      "Row operation 1 \n",
      " [[  1.   0.   0. -60.  13.  -2.]\n",
      " [  0.   1.   0.  28.  -6.   1.]\n",
      " [  0.   0.   1.  33.  -7.   1.]]\n",
      "Inverse Matrix:\n",
      " [[-60.  13.  -2.]\n",
      " [ 28.  -6.   1.]\n",
      " [ 33.  -7.   1.]]\n"
     ]
    }
   ],
   "source": [
    "\n",
    "#M = np.array([[1, 2, 3],[4,5,6],[7,8,9]])\n",
    "M = np.random.randint(1,10,size = (3,3)) #Random original matrix\n",
    "print('M:\\n', M )\n",
    "\n",
    "n,_ = M.shape \n",
    "\n",
    "Inv = np.identity(n)\n",
    "\n",
    "R = np.hstack((M,Inv))\n",
    "print('\\nR:\\n',np.round(R, 2))\n",
    "\n",
    "for j in range(n): #Loop for columns\n",
    "    \n",
    "    for k in range(j,2*n): #Making diagonal element 1\n",
    "        R[j,k] = R[j,k] / R[j,j]\n",
    "    \n",
    "    print('\\nElement', j, j, 'Operation:\\n', np.round(R,2))\n",
    "    \n",
    "    for i in range(n): #Loop for rows\n",
    "       \n",
    "        if i !=j: #Not diagonal rows (pivot rows)\n",
    "            Multiplier = R[i,j]\n",
    "            \n",
    "            for k in range(j,2*n):\n",
    "                R[i,k] = R[i,k]- Multiplier*R[j,k]\n",
    "\n",
    "            print('\\nRow operation', i, '\\n', np.round(R,2))\n",
    "            \n",
    "np.set_printoptions(suppress=True) #Avoid Scientific notation\n",
    "\n",
    "print('Inverse Matrix:\\n', np.round(R[...,n::]))"
   ]
  },
  {
   "cell_type": "code",
   "execution_count": null,
   "metadata": {},
   "outputs": [],
   "source": []
  }
 ],
 "metadata": {
  "kernelspec": {
   "display_name": "Python 3",
   "language": "python",
   "name": "python3"
  },
  "language_info": {
   "codemirror_mode": {
    "name": "ipython",
    "version": 3
   },
   "file_extension": ".py",
   "mimetype": "text/x-python",
   "name": "python",
   "nbconvert_exporter": "python",
   "pygments_lexer": "ipython3",
   "version": "3.7.3"
  }
 },
 "nbformat": 4,
 "nbformat_minor": 2
}
